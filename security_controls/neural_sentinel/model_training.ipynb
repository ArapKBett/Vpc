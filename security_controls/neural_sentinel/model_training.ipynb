{
 "cells": [
  {
   "cell_type": "markdown",
   "metadata": {},
   "source": [
    "# Quantum AI Model Training\n",
    "**Codename:** SENTINEL-X-TRAINER  \n",
    "**Version:** 3.2-AI  \n",
    "**Path:** /security_controls/neural_sentinel/model_training.ipynb\n",
    "\n",
    "Trains the quantum-inspired neural network for intrusion detection"
   ]
  },
  {
   "cell_type": "code",
   "execution_count": null,
   "metadata": {},
   "outputs": [],
   "source": [
    "# Import required libraries\n",
    "import pandas as pd\n",
    "import numpy as np\n",
    "import matplotlib.pyplot as plt\n",
    "from sklearn.model_selection import train_test_split\n",
    "from sklearn.preprocessing import RobustScaler\n",
    "from ids_engine import QuantumAIIntrusionDetection\n",
    "import json\n",
    "\n",
    "%matplotlib inline"
   ]
  },
  {
   "cell_type": "code",
   "execution_count": null,
   "metadata": {},
   "outputs": [],
   "source": [
    "# Load and preprocess dataset\n",
    "print(\"Loading training data...\")\n",
    "df = pd.read_csv('network_traffic.csv')\n",
    "\n",
    "# Display dataset info\n",
    "print(f\"Dataset shape: {df.shape}\")\n",
    "print(\"\\nSample data:\")\n",
    "display(df.head())\n",
    "\n",
    "# Separate features and labels\n",
    "X = df.drop('is_malicious', axis=1).values\n",
    "y = df['is_malicious'].values\n",
    "\n",
    "# Split data\n",
    "X_train, X_test, y_train, y_test = train_test_split(\n",
    "    X, y, test_size=0.2, random_state=42, stratify=y)\n",
    "\n",
    "print(f\"\\nTraining samples: {X_train.shape[0]}\")\n",
    "print(f\"Test samples: {X_test.shape[0]}\")"
   ]
  },
  {
   "cell_type": "code",
   "execution_count": null,
   "metadata": {},
   "outputs": [],
   "source": [
    "# Initialize and train model\n",
    "print(\"Initializing Neural Sentinel...\")\n",
    "sentinel = QuantumAIIntrusionDetection()\n",
    "\n",
    "print(\"Training model...\")\n",
    "history = sentinel.train(X_train, y_train, epochs=200)\n",
    "\n",
    "# Save training history\n",
    "with open('training_history.json', 'w') as f:\n",
    "    json.dump(history.history, f)"
   ]
  },
  {
   "cell_type": "code",
   "execution_count": null,
   "metadata": {},
   "outputs": [],
   "source": [
    "# Evaluate model\n",
    "print(\"Evaluating model performance...\")\n",
    "test_results = sentinel.detect_anomalies(X_test)\n",
    "\n",
    "# Convert predictions to binary\n",
    "y_pred = (test_results['predictions'] > 0.5).astype(int)\n",
    "\n",
    "# Calculate metrics\n",
    "accuracy = np.mean(y_pred == y_test)\n",
    "print(f\"\\nTest Accuracy: {accuracy:.4f}\")"
   ]
  },
  {
   "cell_type": "code",
   "execution_count": null,
   "metadata": {},
   "outputs": [],
   "source": [
    "# Plot training history\n",
    "plt.figure(figsize=(12, 5))\n",
    "\n",
    "# Plot AUC\n",
    "plt.subplot(1, 2, 1)\n",
    "plt.plot(history.history['auc'], label='Train')\n",
    "plt.plot(history.history['val_auc'], label='Validation')\n",
    "plt.title('Training AUC')\n",
    "plt.xlabel('Epoch')\n",
    "plt.ylabel('AUC')\n",
    "plt.legend()\n",
    "\n",
    "# Plot Loss\n",
    "plt.subplot(1, 2, 2)\n",
    "plt.plot(history.history['loss'], label='Train')\n",
    "plt.plot(history.history['val_loss'], label='Validation')\n",
    "plt.title('Training Loss')\n",
    "plt.xlabel('Epoch')\n",
    "plt.ylabel('Loss')\n",
    "plt.legend()\n",
    "\n",
    "plt.tight_layout()\n",
    "plt.savefig('training_metrics.png')\n",
    "plt.show()"
   ]
  },
  {
   "cell_type": "code",
   "execution_count": null,
   "metadata": {},
   "outputs": [],
   "source": [
    "# Save final model artifacts\n",
    "print(\"\\nSaving model artifacts...\")\n",
    "sentinel.model.save('sentinel_x_model.h5')\n",
    "\n",
    "# Save test results\n",
    "test_results['timestamp'] = pd.Timestamp.now().isoformat()\n",
    "test_results['codename'] = \"SENTINEL-X-TRAINER\"\n",
    "test_results['version'] = \"3.2-AI\"\n",
    "\n",
    "with open('test_results.json', 'w') as f:\n",
    "    json.dump(test_results, f, indent=2)\n",
    "\n",
    "print(\"Training complete!\")"
   ]
  }
 ],
 "metadata": {
  "kernelspec": {
   "display_name": "Python 3",
   "language": "python",
   "name": "python3"
  },
  "language_info": {
   "codemirror_mode": {
    "name": "ipython",
    "version": 3
   },
   "file_extension": ".py",
   "mimetype": "text/x-python",
   "name": "python",
   "nbconvert_exporter": "python",
   "pygments_lexer": "ipython3",
   "version": "3.8.5"
  }
 },
 "nbformat": 4,
 "nbformat_minor": 4
}
