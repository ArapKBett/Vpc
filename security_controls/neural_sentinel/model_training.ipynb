{
 "cells": [
  {
   "cell_type": "markdown",
   "metadata": {},
   "source": [
    "# Quantum AI Model Training\n",
    "**Codename:** SENTINEL-X-TRAINER  \n",
    "**Version:** 3.2-AI  \n",
    "Trains the quantum-inspired neural network for intrusion detection"
   ]
  },
  {
   "cell_type": "code",
   "execution_count": null,
   "metadata": {},
   "outputs": [],
   "source": [
    "import pandas as pd\n",
    "from ids_engine import QuantumAIIntrusionDetection\n",
    "import numpy as np\n",
    "\n",
    "# Load dataset (example)\n",
    "df = pd.read_csv('network_traffic.csv')\n",
    "X = df.drop('is_malicious', axis=1).values\n",
    "y = df['is_malicious'].values\n",
    "\n",
    "# Initialize and train\n",
    "sentinel = QuantumAIIntrusionDetection()\n",
    "history = sentinel.train(X, y, epochs=200)"
   ]
  },
  {
   "cell_type": "code",
   "execution_count": null,
   "metadata": {},
   "outputs": [],
   "source": [
    "# Evaluation\n",
    "import matplotlib.pyplot as plt\n",
    "\n",
    "plt.plot(history.history['auc'], label='Training AUC')\n",
    "plt.plot(history.history['val_auc'], label='Validation AUC')\n",
    "plt.title('Training Performance')\n",
    "plt.xlabel('Epoch')\n",
    "plt.ylabel('AUC')\n",
    "plt.legend()\n",
    "plt.show()"
   ]
  }
 ]
}
